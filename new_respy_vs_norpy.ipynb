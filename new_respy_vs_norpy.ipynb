{
 "cells": [
  {
   "cell_type": "code",
   "execution_count": 10,
   "metadata": {},
   "outputs": [],
   "source": [
    "#a is the result dataframe from the simulation \n",
    "import pandas as pd \n",
    "\n",
    "from run import a\n",
    "from smm_prep import get_moments"
   ]
  },
  {
   "cell_type": "code",
   "execution_count": 11,
   "metadata": {},
   "outputs": [],
   "source": [
    "moments_norpy = pd.DataFrame(dict(get_moments(a)))"
   ]
  },
  {
   "cell_type": "code",
   "execution_count": 12,
   "metadata": {},
   "outputs": [
    {
     "name": "stdout",
     "output_type": "stream",
     "text": [
      "                             Wage Distribution        Choice Probability\n",
      "1.0    [220583.18901547504, 86878.41222570468]  [0.1816, 0.7682, 0.0502]\n",
      "2.0   [261793.25979713528, 102346.91820783891]  [0.3442, 0.6136, 0.0422]\n",
      "3.0     [299665.6850008106, 112524.0889518826]   [0.4664, 0.505, 0.0286]\n",
      "4.0     [328463.8544585566, 123316.4633282078]  [0.6346, 0.3408, 0.0246]\n",
      "5.0   [373257.82730718295, 146734.98539998438]   [0.6712, 0.3118, 0.017]\n",
      "6.0   [387779.70195092174, 154579.33352521673]   [0.6794, 0.301, 0.0196]\n",
      "7.0   [403551.41267841635, 154907.28383889468]   [0.8274, 0.157, 0.0156]\n",
      "8.0    [449292.0029961793, 195014.37573388478]  [0.8612, 0.1216, 0.0172]\n",
      "9.0     [466840.1720331021, 197234.5377328065]   [0.8808, 0.1032, 0.016]\n",
      "10.0   [480894.9873384872, 209012.70168905964]  [0.9046, 0.0796, 0.0158]\n",
      "11.0   [496541.9040483903, 212483.40967167754]   [0.9176, 0.065, 0.0174]\n",
      "12.0  [508731.74968757207, 218814.75350393174]   [0.9278, 0.054, 0.0182]\n",
      "13.0  [513086.57310557587, 220685.58356365107]  [0.9358, 0.0474, 0.0168]\n",
      "14.0    [531083.2042968073, 230293.8150065648]  [0.9454, 0.0374, 0.0172]\n",
      "15.0   [536042.0928697096, 235616.35312157957]   [0.9564, 0.026, 0.0176]\n",
      "16.0    [544216.9866958765, 236577.9603898923]  [0.9522, 0.0266, 0.0212]\n",
      "17.0    [552644.5378362874, 238813.1306224036]    [0.9576, 0.02, 0.0224]\n",
      "18.0   [566781.4623668602, 249981.47686145944]  [0.9606, 0.0186, 0.0208]\n",
      "19.0   [569730.8177376905, 245389.56308966185]   [0.964, 0.0138, 0.0222]\n",
      "20.0   [579708.3615544111, 253179.38107545968]  [0.9654, 0.0102, 0.0244]\n",
      "21.0   [585726.6757580466, 254756.34893153387]  [0.9662, 0.0076, 0.0262]\n",
      "22.0    [597827.3266395146, 264810.3739956581]   [0.9646, 0.008, 0.0274]\n",
      "23.0     [605566.513549645, 264579.0607178661]    [0.9646, 0.0054, 0.03]\n",
      "24.0    [601110.4243326191, 263024.7082458974]   [0.964, 0.0044, 0.0316]\n",
      "25.0      [614999.9813307, 269307.39880217495]  [0.9644, 0.0022, 0.0334]\n",
      "26.0   [618585.2019202451, 263536.36493506527]  [0.9622, 0.0016, 0.0362]\n",
      "27.0   [626848.6597493611, 274179.94585180224]   [0.9586, 0.002, 0.0394]\n",
      "28.0    [630323.4401540172, 272731.6528680315]  [0.9598, 0.0014, 0.0388]\n",
      "29.0   [633337.9699254354, 278502.12347432383]  [0.9616, 0.0012, 0.0372]\n",
      "30.0    [635273.7093003363, 280142.1874720411]   [0.9616, 0.0004, 0.038]\n",
      "31.0    [640549.0062153148, 282651.7442852759]  [0.9548, 0.0006, 0.0446]\n",
      "32.0     [644874.466286104, 282158.2161084371]   [0.951, 0.0004, 0.0486]\n",
      "33.0   [642742.3316802839, 277937.43824675656]    [0.95, 0.0004, 0.0496]\n",
      "34.0      [640448.5510974636, 276407.94999801]   [0.9508, 0.0002, 0.049]\n",
      "35.0   [648866.7676440341, 283067.59862076055]     [0.9466, 0.0, 0.0534]\n",
      "36.0    [651566.3188176329, 279782.8764631441]  [0.9422, 0.0006, 0.0572]\n",
      "37.0   [645796.4869355094, 276099.24120991916]     [0.9432, 0.0, 0.0568]\n",
      "38.0    [652543.3302182647, 282906.6917229691]  [0.9404, 0.0002, 0.0594]\n",
      "39.0    [658425.6822215329, 282869.7222366392]     [0.9366, 0.0, 0.0634]\n",
      "40.0    [655199.1175888187, 282347.9072794078]       [0.933, 0.0, 0.067]\n",
      "41.0   [659986.3105520003, 279350.28926695546]     [0.9282, 0.0, 0.0718]\n",
      "42.0    [652621.5486587724, 279743.8368865843]     [0.9222, 0.0, 0.0778]\n",
      "43.0    [650945.7877306476, 275198.1525131492]     [0.9246, 0.0, 0.0754]\n",
      "44.0   [654960.3603463478, 277080.93411148683]     [0.9208, 0.0, 0.0792]\n",
      "45.0   [646040.1975359103, 270961.26441131963]     [0.9154, 0.0, 0.0846]\n",
      "46.0    [651714.8255104786, 285053.4048192813]     [0.9166, 0.0, 0.0834]\n",
      "47.0   [646770.4159909082, 274210.63581247575]     [0.9084, 0.0, 0.0916]\n",
      "48.0     [659342.630500166, 271710.2876971235]     [0.8852, 0.0, 0.1148]\n",
      "49.0    [681817.8289964005, 274087.8474247217]     [0.7674, 0.0, 0.2326]\n"
     ]
    }
   ],
   "source": [
    "print(moments_norpy)"
   ]
  },
  {
   "cell_type": "code",
   "execution_count": 13,
   "metadata": {},
   "outputs": [],
   "source": [
    "#This is the respy version now \n",
    "import yaml\n",
    "\n",
    "import respy as rp\n",
    "import numpy as np\n",
    "import pandas as pd\n",
    "\n",
    "from ov_respy_config import TEST_RESOURCES_DIR\n",
    "from validation_utils import get_moments"
   ]
  },
  {
   "cell_type": "code",
   "execution_count": 14,
   "metadata": {},
   "outputs": [],
   "source": [
    "#Get the respy model spec \n",
    "options = yaml.safe_load((TEST_RESOURCES_DIR / f\"norpy_estimates.yaml\").read_text())\n",
    "params = pd.read_csv(\n",
    "        TEST_RESOURCES_DIR / f\"norpy_estimates.csv\", index_col=[\"category\", \"name\"]\n",
    "    )\n"
   ]
  },
  {
   "cell_type": "code",
   "execution_count": 15,
   "metadata": {},
   "outputs": [],
   "source": [
    "#Get rid of weird string values\n",
    "for x in params[\"value\"]:\n",
    "    x = float(x)"
   ]
  },
  {
   "cell_type": "code",
   "execution_count": 16,
   "metadata": {},
   "outputs": [],
   "source": [
    "#Simulate the data with  the specified coefficeints\n",
    "simulate = rp.get_simulate_func(params, options)\n",
    "df = simulate(params)\n",
    "moments_respy = pd.DataFrame(dict(get_moments(df)))\n",
    "\n",
    "\n"
   ]
  },
  {
   "cell_type": "code",
   "execution_count": 17,
   "metadata": {},
   "outputs": [
    {
     "name": "stdout",
     "output_type": "stream",
     "text": [
      "                           Wage Distribution        Choice Probability\n",
      "0    [237802.34582542433, 82148.26433514021]     [0.205, 0.718, 0.077]\n",
      "1   [279300.99653567484, 102858.87913610111]  [0.3844, 0.5568, 0.0588]\n",
      "2    [307421.4734907328, 115600.84803271406]   [0.526, 0.4274, 0.0466]\n",
      "3    [329356.4470182693, 120631.12857596474]      [0.72, 0.247, 0.033]\n",
      "4     [370976.3556705346, 136394.4244389747]   [0.7784, 0.193, 0.0286]\n",
      "5   [388934.24317406357, 147205.79485121695]   [0.8042, 0.173, 0.0228]\n",
      "6   [404544.57902094966, 154790.74293335032]    [0.8188, 0.1612, 0.02]\n",
      "7    [421435.72653462994, 162284.8473126826]  [0.8546, 0.1222, 0.0232]\n",
      "8    [440055.9184736926, 178009.03188883598]  [0.8784, 0.0994, 0.0222]\n",
      "9    [451226.57340549235, 187171.5786758011]   [0.889, 0.0842, 0.0268]\n",
      "10  [469620.48562149465, 199105.51699580677]   [0.9088, 0.0662, 0.025]\n",
      "11    [477695.7199234928, 204973.1317354014]   [0.921, 0.0534, 0.0256]\n",
      "12  [490814.02041895274, 213674.81506260668]   [0.9308, 0.043, 0.0262]\n",
      "13  [498311.60616818414, 214263.16015249933]  [0.9386, 0.0358, 0.0256]\n",
      "14   [509520.01075331226, 223489.5196703325]   [0.9438, 0.0322, 0.024]\n",
      "15   [513976.1134991292, 224075.29536863937]  [0.9482, 0.0256, 0.0262]\n",
      "16   [523926.7089376964, 232755.92002819173]   [0.9548, 0.0202, 0.025]\n",
      "17   [533758.1423677374, 229477.79899426812]  [0.9564, 0.0174, 0.0262]\n",
      "18   [538472.3001187829, 233854.35613904556]   [0.9554, 0.0166, 0.028]\n",
      "19   [542556.4330665208, 236309.43581690165]  [0.9578, 0.0124, 0.0298]\n",
      "20   [556709.4892209113, 246246.15942626493]   [0.9568, 0.011, 0.0322]\n",
      "21    [563392.7379186127, 246015.1773827153]   [0.9536, 0.009, 0.0374]\n",
      "22   [573661.5810442796, 250380.85235475466]  [0.9536, 0.0082, 0.0382]\n",
      "23   [571943.0072001598, 246324.81964804546]  [0.9572, 0.0066, 0.0362]\n",
      "24    [577557.6697166729, 253214.7810998347]     [0.955, 0.004, 0.041]\n",
      "25   [581217.3362976811, 259455.04668472026]  [0.9602, 0.0044, 0.0354]\n",
      "26    [586926.0204234319, 266005.9406618443]  [0.9566, 0.0042, 0.0392]\n",
      "27      [591891.169396572, 265184.879525783]   [0.953, 0.0036, 0.0434]\n",
      "28   [590082.5247193186, 253764.52919661667]  [0.9494, 0.0014, 0.0492]\n",
      "29   [600714.0147198641, 261406.71768466212]   [0.9464, 0.001, 0.0526]\n",
      "30     [600599.846768509, 269001.3430610748]   [0.9448, 0.001, 0.0542]\n",
      "31   [603243.2363408193, 265319.03371446417]     [0.946, 0.001, 0.053]\n",
      "32   [605965.4510963603, 269003.28037788766]  [0.9452, 0.0004, 0.0544]\n",
      "33    [610736.4960829975, 268465.7265347822]   [0.943, 0.0006, 0.0564]\n",
      "34    [608164.0069547249, 270870.5249050658]  [0.9394, 0.0002, 0.0604]\n",
      "35    [619639.669214277, 276255.57907857234]  [0.9378, 0.0008, 0.0614]\n",
      "36     [612341.026108817, 266681.6700134944]  [0.9312, 0.0002, 0.0686]\n",
      "37    [619842.4497213197, 275040.0301001128]  [0.9276, 0.0002, 0.0722]\n",
      "38   [615700.9079876132, 275981.48805651086]     [0.9292, 0.0, 0.0708]\n",
      "39   [617994.8437094524, 274403.85832381784]       [0.927, 0.0, 0.073]\n",
      "40   [613179.3020808691, 269050.30900828674]     [0.9188, 0.0, 0.0812]\n",
      "41   [617642.1214800507, 271778.82879071677]     [0.9172, 0.0, 0.0828]\n",
      "42     [620865.292547859, 273870.0162684356]     [0.9126, 0.0, 0.0874]\n",
      "43     [615645.6129183125, 273577.110569552]     [0.9096, 0.0, 0.0904]\n",
      "44    [613067.8662572822, 275105.0743915515]     [0.9034, 0.0, 0.0966]\n",
      "45     [616278.9041255713, 274168.819340762]           [0.9, 0.0, 0.1]\n",
      "46     [614298.9954094721, 274784.847213376]     [0.8912, 0.0, 0.1088]\n",
      "47    [613558.4505753816, 263236.9081569996]     [0.8608, 0.0, 0.1392]\n",
      "48    [649838.6802918927, 264976.8537338556]     [0.7162, 0.0, 0.2838]\n"
     ]
    }
   ],
   "source": [
    "#Look at the respy moments \n",
    "print(moments_respy)"
   ]
  },
  {
   "cell_type": "code",
   "execution_count": null,
   "metadata": {},
   "outputs": [],
   "source": []
  },
  {
   "cell_type": "code",
   "execution_count": 23,
   "metadata": {},
   "outputs": [],
   "source": [
    "from matplotlib import pyplot \n",
    "import matplotlib.patches as mpatches\n",
    "\n"
   ]
  },
  {
   "cell_type": "code",
   "execution_count": 26,
   "metadata": {},
   "outputs": [],
   "source": [
    "#Import the actual moments\n",
    "import json\n",
    "\n",
    "with open('/home/moritz/OpenSourceEconomics/ov_respy/ressources/moments.respy.json') as json_file:\n",
    "    data = json.load(json_file)\n"
   ]
  },
  {
   "cell_type": "code",
   "execution_count": 29,
   "metadata": {},
   "outputs": [
    {
     "name": "stdout",
     "output_type": "stream",
     "text": [
      "                                   Choice Probability Final Schooling  \\\n",
      "0                       [0.1902, 0.0, 0.7154, 0.0944]             [0]   \n",
      "1                        [0.339, 0.0, 0.5912, 0.0698]             [0]   \n",
      "2                       [0.4544, 0.0, 0.4948, 0.0508]             [0]   \n",
      "3                       [0.7086, 0.0, 0.2526, 0.0388]             [0]   \n",
      "4   [0.7651060424169668, 0.0, 0.21348539415766307,...             [0]   \n",
      "5   [0.7814503205128205, 0.0, 0.20272435897435898,...             [0]   \n",
      "6   [0.799036338084722, 0.0, 0.18189118650873318, ...             [0]   \n",
      "7   [0.8357848075760629, 0.0, 0.14426758009268587,...             [0]   \n",
      "8   [0.8721470410018178, 0.0, 0.11028075136336093,...             [0]   \n",
      "9   [0.9059275743475622, 0.0, 0.07687639085575561,...         [0.104]   \n",
      "10  [0.9321037697608431, 0.0, 0.051276854479124445...        [0.1088]   \n",
      "11  [0.9354183590576767, 0.0, 0.04366368805848903,...        [0.1238]   \n",
      "12  [0.938402114250864, 0.0, 0.04106525716609067, ...        [0.3344]   \n",
      "13  [0.9393322475570033, 0.0, 0.035627035830618894...         [0.041]   \n",
      "14  [0.941884176182708, 0.0, 0.029567699836867863,...        [0.0442]   \n",
      "15  [0.9403959991835068, 0.0, 0.028577260665441927...         [0.042]   \n",
      "16  [0.9387004495300367, 0.0, 0.028606456885982835...        [0.1232]   \n",
      "17  [0.9404737384140062, 0.0, 0.026776519052523172...        [0.0412]   \n",
      "18  [0.9455486542443065, 0.0, 0.02091097308488613,...        [0.0322]   \n",
      "19  [0.9438552713661884, 0.0, 0.019754626741526306...        [0.0006]   \n",
      "20  [0.9386093130089789, 0.0, 0.02672791814575068,...        [0.0026]   \n",
      "21  [0.9400796144982192, 0.0, 0.024093861303163627...        [0.0018]   \n",
      "22  [0.9417944946417315, 0.0, 0.022063458709812987...        [0.0002]   \n",
      "23  [0.939016670183583, 0.0, 0.02173454315256383, ...             [0]   \n",
      "24  [0.9387971198644642, 0.0, 0.016306649724692927...             [0]   \n",
      "25  [0.9491705657167163, 0.0, 0.01658868566567418,...             [0]   \n",
      "26  [0.9454390451832907, 0.0, 0.016837169650468883...             [0]   \n",
      "27  [0.9437553464499572, 0.0, 0.01561163387510693,...             [0]   \n",
      "28  [0.9416809605488851, 0.0, 0.015222984562607204...             [0]   \n",
      "29  [0.9395308801377232, 0.0, 0.016785022595222725...             [0]   \n",
      "30  [0.9476530391520658, 0.0, 0.01189703655634869,...             NaN   \n",
      "31  [0.9430929626411816, 0.0, 0.01216333622936577,...             NaN   \n",
      "32  [0.9413687881429816, 0.0, 0.011769834350479512...             NaN   \n",
      "33  [0.9389363099146422, 0.0, 0.00984898227183191,...             NaN   \n",
      "34  [0.9384480105517696, 0.0, 0.007474170147285118...             NaN   \n",
      "35  [0.9319787985865724, 0.0, 0.007950530035335688...             NaN   \n",
      "36  [0.9274944567627494, 0.0, 0.004434589800443459...             NaN   \n",
      "37  [0.9235057983942908, 0.0, 0.005352363960749330...             NaN   \n",
      "\n",
      "                           Wage Distribution  \n",
      "0   [216052.24214973263, 106656.11693750987]  \n",
      "1   [271435.40224260354, 121734.45525031688]  \n",
      "2    [312804.03775746765, 134017.6961603012]  \n",
      "3     [237468.8923022432, 156087.5431785087]  \n",
      "4     [296435.1377506631, 159577.0795151654]  \n",
      "5    [367343.3048807054, 160970.03967780093]  \n",
      "6     [391832.999677665, 161621.01924927242]  \n",
      "7    [410949.5020126244, 165826.46081709253]  \n",
      "8   [440561.66871501866, 169347.86030211966]  \n",
      "9   [473641.15789497405, 183252.86967316252]  \n",
      "10   [507770.5222436459, 194521.58404429155]  \n",
      "11     [527012.7662847147, 204925.857181758]  \n",
      "12   [524189.30402972025, 202489.5938434493]  \n",
      "13   [537063.4333136225, 218110.38622973335]  \n",
      "14   [551002.1049099298, 222106.28075997005]  \n",
      "15    [560517.9455919174, 237250.3938538561]  \n",
      "16   [562077.6173481152, 241678.91008862248]  \n",
      "17   [572014.4992232142, 242212.41296030075]  \n",
      "18    [577361.0581461675, 242301.6564245446]  \n",
      "19   [585487.2690404832, 245947.70038065405]  \n",
      "20   [594386.2413131542, 249804.46469352505]  \n",
      "21   [604903.5022141064, 260940.01138074172]  \n",
      "22   [601375.4693887363, 261603.26096035304]  \n",
      "23    [601632.0192373468, 263518.4613135209]  \n",
      "24   [603843.6220966993, 269984.33770546946]  \n",
      "25     [600829.9519214876, 267573.770762513]  \n",
      "26     [597505.627986639, 275656.2131638134]  \n",
      "27     [589503.179364821, 267863.5190632874]  \n",
      "28   [599111.5596790066, 275388.47639540007]  \n",
      "29    [605387.0945918607, 279525.4902241715]  \n",
      "30   [614186.6246909518, 283651.90044922015]  \n",
      "31    [623019.0340260973, 283206.1040601072]  \n",
      "32    [620189.5080099977, 286722.6656775079]  \n",
      "33   [612267.7777488037, 286288.49228130153]  \n",
      "34     [609149.560773867, 285557.7911823065]  \n",
      "35    [612006.8410230054, 285768.8657531949]  \n",
      "36     [607061.414734252, 284309.9752850205]  \n",
      "37   [605509.8516097683, 287260.88177428045]  \n"
     ]
    }
   ],
   "source": [
    "moments_real = pd.DataFrame(data)\n",
    "print(moments_real)"
   ]
  },
  {
   "cell_type": "code",
   "execution_count": 35,
   "metadata": {},
   "outputs": [],
   "source": [
    "respy_wages = [x[0] for x in  moments_respy[\"Wage Distribution\"][:38]]\n",
    "norpy_wages = [x[0] for x in  moments_norpy[\"Wage Distribution\"][:38]]\n",
    "real_wages = [x[0] for x in  moments_real[\"Wage Distribution\"]]"
   ]
  },
  {
   "cell_type": "code",
   "execution_count": 37,
   "metadata": {},
   "outputs": [
    {
     "data": {
      "text/plain": [
       "[0, 49, 0, 700000]"
      ]
     },
     "execution_count": 37,
     "metadata": {},
     "output_type": "execute_result"
    },
    {
     "data": {
      "image/png": "[encoded data removed]",
      "text/plain": [
       "<Figure size 432x288 with 1 Axes>"
      ]
     },
     "metadata": {
      "needs_background": "light"
     },
     "output_type": "display_data"
    }
   ],
   "source": [
    "pyplot.plot(np.arange(38), respy_wages, 'r')\n",
    "pyplot.plot(np.arange(38), norpy_wages, 'b')\n",
    "pyplot.plot(np.arange(38), real_wages, 'y')\n",
    "\n",
    "red_patch = mpatches.Patch(color='red', label='respy')\n",
    "blue_patch = mpatches.Patch(color='blue', label='norpy')\n",
    "yellow_patch = mpatches.Patch(color='yellow', label='real')\n",
    "\n",
    "pyplot.legend(handles=[red_patch,blue_patch,yellow_patch])\n",
    "pyplot.axis([0, 49, 0, 700000])\n"
   ]
  },
  {
   "cell_type": "code",
   "execution_count": 38,
   "metadata": {},
   "outputs": [],
   "source": [
    "respy_work = [x[0] for x in  moments_respy[\"Choice Probability\"][:38]]\n",
    "norpy_work = [x[0] for x in  moments_norpy[\"Choice Probability\"][:38]]\n",
    "real_work = [x[0] for x in  moments_real[\"Choice Probability\"]]"
   ]
  },
  {
   "cell_type": "code",
   "execution_count": 39,
   "metadata": {},
   "outputs": [
    {
     "data": {
      "text/plain": [
       "[0, 49, 0, 1]"
      ]
     },
     "execution_count": 39,
     "metadata": {},
     "output_type": "execute_result"
    },
    {
     "data": {
      "image/png": "[encoded data removed]",
      "text/plain": [
       "<Figure size 432x288 with 1 Axes>"
      ]
     },
     "metadata": {
      "needs_background": "light"
     },
     "output_type": "display_data"
    }
   ],
   "source": [
    "pyplot.plot(np.arange(38), respy_work, 'r')\n",
    "pyplot.plot(np.arange(38), norpy_work, 'b')\n",
    "pyplot.plot(np.arange(38), real_work, 'y')\n",
    "\n",
    "red_patch = mpatches.Patch(color='red', label='respy')\n",
    "blue_patch = mpatches.Patch(color='blue', label='norpy')\n",
    "yellow_patch = mpatches.Patch(color='yellow', label='real')\n",
    "\n",
    "pyplot.legend(handles=[red_patch,blue_patch,yellow_patch])\n",
    "pyplot.axis([0, 49, 0, 1])"
   ]
  },
  {
   "cell_type": "code",
   "execution_count": 42,
   "metadata": {},
   "outputs": [],
   "source": [
    "respy_educ = [x[1] for x in  moments_respy[\"Choice Probability\"][:38]]\n",
    "norpy_educ = [x[1] for x in  moments_norpy[\"Choice Probability\"][:38]]\n",
    "real_educ = [x[2] for x in  moments_real[\"Choice Probability\"]]"
   ]
  },
  {
   "cell_type": "code",
   "execution_count": 43,
   "metadata": {},
   "outputs": [
    {
     "data": {
      "text/plain": [
       "[0, 49, 0, 1]"
      ]
     },
     "execution_count": 43,
     "metadata": {},
     "output_type": "execute_result"
    },
    {
     "data": {
      "image/png": "[encoded data removed]",
      "text/plain": [
       "<Figure size 432x288 with 1 Axes>"
      ]
     },
     "metadata": {
      "needs_background": "light"
     },
     "output_type": "display_data"
    }
   ],
   "source": [
    "pyplot.plot(np.arange(38), respy_educ, 'r')\n",
    "pyplot.plot(np.arange(38), norpy_educ, 'b')\n",
    "pyplot.plot(np.arange(38), real_educ, 'y')\n",
    "\n",
    "red_patch = mpatches.Patch(color='red', label='respy')\n",
    "blue_patch = mpatches.Patch(color='blue', label='norpy')\n",
    "yellow_patch = mpatches.Patch(color='yellow', label='real')\n",
    "\n",
    "pyplot.legend(handles=[red_patch,blue_patch,yellow_patch])\n",
    "pyplot.axis([0, 49, 0, 1])"
   ]
  },
  {
   "cell_type": "code",
   "execution_count": null,
   "metadata": {},
   "outputs": [],
   "source": []
  }
 ],
 "metadata": {
  "kernelspec": {
   "display_name": "Python 3",
   "language": "python",
   "name": "python3"
  },
  "language_info": {
   "codemirror_mode": {
    "name": "ipython",
    "version": 3
   },
   "file_extension": ".py",
   "mimetype": "text/x-python",
   "name": "python",
   "nbconvert_exporter": "python",
   "pygments_lexer": "ipython3",
   "version": "3.6.9"
  }
 },
 "nbformat": 4,
 "nbformat_minor": 4
}
